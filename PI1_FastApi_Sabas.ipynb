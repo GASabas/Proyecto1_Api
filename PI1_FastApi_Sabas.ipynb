{
 "cells": [
  {
   "cell_type": "code",
   "execution_count": 1,
   "metadata": {},
   "outputs": [],
   "source": [
    "import pandas as pd\n",
    "import numpy as np\n",
    "from fastapi import FastAPI\n",
    "\n",
    "app = FastAPI()\n",
    "\n"
   ]
  },
  {
   "cell_type": "code",
   "execution_count": 2,
   "metadata": {},
   "outputs": [],
   "source": [
    "movies_credits= pd.read_csv(\"./Movies/movies_credits.csv\")"
   ]
  },
  {
   "cell_type": "code",
   "execution_count": 3,
   "metadata": {},
   "outputs": [],
   "source": [
    "movies_credits['release_date'] = pd.to_datetime(movies_credits['release_date'], errors='coerce')"
   ]
  },
  {
   "cell_type": "code",
   "execution_count": 4,
   "metadata": {},
   "outputs": [],
   "source": [
    "@app.get(\"/cantidad_filmaciones_mes/{mes}\")\n",
    "def cantidad_filmaciones_mes(mes: str):\n",
    "    \n",
    "    meses = {\n",
    "        'enero': 1, 'febrero': 2, 'marzo': 3, 'abril': 4, 'mayo': 5,\n",
    "        'junio': 6, 'julio': 7, 'agosto': 8, 'septiembre': 9, 'octubre': 10,\n",
    "        'noviembre': 11, 'diciembre': 12\n",
    "    }\n",
    "\n",
    "    \n",
    "    if mes.lower() not in meses:\n",
    "        return {\"error\": \"Mes inválido. Debe ser uno de los siguientes: enero, febrero, marzo, etc.\"}\n",
    "\n",
    "    \n",
    "    mes_numero = meses[mes.lower()]\n",
    "    peliculas_mes = movies_credits[movies_credits['release_date'].dt.month == mes_numero]\n",
    "\n",
    "    \n",
    "    cantidad = len(peliculas_mes)\n",
    "    return {\"message\": f\"{cantidad} cantidad de películas fueron estrenadas en el mes de {mes.capitalize()}\"}"
   ]
  },
  {
   "cell_type": "code",
   "execution_count": 5,
   "metadata": {},
   "outputs": [],
   "source": [
    "@app.get(\"/cantidad_filmaciones_dia/{dia}\")\n",
    "def cantidad_filmaciones_dia(dia: str):\n",
    "    \n",
    "    dias = {\n",
    "        'lunes': 0, 'martes': 1, 'miércoles': 2, 'jueves': 3, 'viernes': 4,\n",
    "        'sábado': 5, 'domingo': 6\n",
    "    }\n",
    "\n",
    "    \n",
    "    if dia.lower() not in dias:\n",
    "        return {\"error\": \"Día inválido. Debe ser uno de los siguientes: lunes, martes, miércoles, jueves, viernes, sábado, domingo.\"}\n",
    "\n",
    "    \n",
    "    dia_numero = dias[dia.lower()]\n",
    "    peliculas_dia = movies_credits[movies_credits['release_date'].dt.dayofweek == dia_numero]\n",
    "\n",
    "    \n",
    "    cantidad = len(peliculas_dia)\n",
    "    return {\"message\": f\"{cantidad} cantidad de películas fueron estrenadas en los días {dia.capitalize()}\"}"
   ]
  },
  {
   "cell_type": "code",
   "execution_count": 6,
   "metadata": {},
   "outputs": [],
   "source": [
    "@app.get(\"/score_titulo/{titulo_de_la_filmacion}\")\n",
    "def score_titulo(titulo_de_la_filmacion: str):\n",
    "    \n",
    "    pelicula = movies_credits[movies_credits['title'].str.contains(titulo_de_la_filmacion, case=False, na=False)]\n",
    "    \n",
    "    \n",
    "    if pelicula.empty:\n",
    "        return {\"error\": f\"No se encontró ninguna película con el título '{titulo_de_la_filmacion}'.\"}\n",
    "    \n",
    "   \n",
    "    titulo = pelicula['title'].iloc[0]\n",
    "    año_estreno = pelicula['release_year'].iloc[0]\n",
    "    score = pelicula['vote_average'].iloc[0]\n",
    "    \n",
    "    \n",
    "    return {\n",
    "        \"message\": f\"La película '{titulo}' fue estrenada en el año {año_estreno} con un score/popularidad de {score}.\"}"
   ]
  },
  {
   "cell_type": "code",
   "execution_count": 7,
   "metadata": {},
   "outputs": [],
   "source": [
    "@app.get(\"/votos_titulo/{titulo_de_la_filmacion}\")\n",
    "def votos_titulo(titulo_de_la_filmacion: str):\n",
    "    \n",
    "    pelicula = movies_credits[movies_credits['title'].str.contains(titulo_de_la_filmacion, case=False, na=False)]\n",
    "    \n",
    "    \n",
    "    if pelicula.empty:\n",
    "        return {\"error\": f\"No se encontró ninguna película con el título '{titulo_de_la_filmacion}'.\"}\n",
    "    \n",
    "    \n",
    "    cantidad_votos = pelicula['vote_count'].iloc[0]\n",
    "    promedio_votacion = pelicula['vote_average'].iloc[0]\n",
    "    \n",
    "    \n",
    "    if cantidad_votos < 2000:\n",
    "        return {\"message\": f\"La película '{titulo_de_la_filmacion}' no tiene suficientes valoraciones. Solo tiene {cantidad_votos} votos.\"}\n",
    "    \n",
    "    \n",
    "    titulo = pelicula['title'].iloc[0]\n",
    "    año_estreno = pelicula['release_year'].iloc[0]\n",
    "    \n",
    "    \n",
    "    return {\n",
    "        \"message\": f\"La película '{titulo}' fue estrenada en el año {año_estreno}. La misma cuenta con un total de {cantidad_votos} valoraciones, con un promedio de {promedio_votacion}.\"\n",
    "    }"
   ]
  },
  {
   "cell_type": "code",
   "execution_count": 8,
   "metadata": {},
   "outputs": [],
   "source": [
    "@app.get(\"/get_actor/{nombre_actor}\")\n",
    "def get_actor(nombre_actor: str):\n",
    "    \n",
    "    actor_data = movies_credits[movies_credits['cast'].apply(lambda x: any(actor['name'] == nombre_actor for actor in x))]\n",
    "    \n",
    "    \n",
    "    actor_data = actor_data[actor_data['director'] != nombre_actor]\n",
    "\n",
    "    \n",
    "    if actor_data.empty:\n",
    "        return {\"error\": f\"No se encontró ningún actor con el nombre '{nombre_actor}'.\"}\n",
    "\n",
    "    \n",
    "    cantidad_peliculas = len(actor_data)\n",
    "\n",
    "    \n",
    "    actor_data['return'] = actor_data.apply(lambda row: row['revenue'] / row['budget'] if row['budget'] > 0 else 0, axis=1)\n",
    "    retorno_total = actor_data['return'].sum()\n",
    "    promedio_retorno = actor_data['return'].mean()\n",
    "\n",
    "    \n",
    "    return {\n",
    "        \"message\": f\"El actor '{nombre_actor}' ha participado en {cantidad_peliculas} cantidad de filmaciones, \"\n",
    "                   f\"el mismo ha conseguido un retorno de {retorno_total} con un promedio de {promedio_retorno} por filmación.\"\n",
    "    }"
   ]
  },
  {
   "cell_type": "code",
   "execution_count": 9,
   "metadata": {},
   "outputs": [],
   "source": [
    "@app.get(\"/get_actor/{nombre_actor}\")\n",
    "def get_actor(nombre_actor: str):\n",
    "    \n",
    "    actor_data = movies_credits[movies_credits['actor'] == nombre_actor]\n",
    "    \n",
    "    \n",
    "    if actor_data.empty:\n",
    "        return {\"error\": f\"No se encontró ningún actor con el nombre '{nombre_actor}'.\"}\n",
    "    \n",
    "    \n",
    "    actor_data['return'] = actor_data.apply(lambda row: row['revenue'] / row['budget'] if row['budget'] > 0 else 0, axis=1)\n",
    "    retorno_total = actor_data['return'].sum()\n",
    "    promedio_retorno = actor_data['return'].mean()\n",
    "    \n",
    "    \n",
    "    peliculas_info = actor_data[['title', 'release_date', 'return', 'budget', 'revenue']]\n",
    "    peliculas_info = peliculas_info.rename(columns={\n",
    "        'title': 'Película',\n",
    "        'release_date': 'Fecha de Lanzamiento',\n",
    "        'return': 'Retorno',\n",
    "        'budget': 'Costo',\n",
    "        'revenue': 'Ganancia'\n",
    "    })\n",
    "    \n",
    "    \n",
    "    peliculas_detalle = peliculas_info.to_dict(orient='records')\n",
    "    \n",
    "    return {\n",
    "        \"message\": f\"El actor '{nombre_actor}' ha participado en {len(actor_data)} películas, ha conseguido un retorno total de {retorno_total} con un promedio de {promedio_retorno}.\",\n",
    "        \"peliculas\": peliculas_detalle\n",
    "    }"
   ]
  },
  {
   "cell_type": "code",
   "execution_count": null,
   "metadata": {},
   "outputs": [],
   "source": []
  }
 ],
 "metadata": {
  "kernelspec": {
   "display_name": "Python 3",
   "language": "python",
   "name": "python3"
  },
  "language_info": {
   "codemirror_mode": {
    "name": "ipython",
    "version": 3
   },
   "file_extension": ".py",
   "mimetype": "text/x-python",
   "name": "python",
   "nbconvert_exporter": "python",
   "pygments_lexer": "ipython3",
   "version": "3.10.11"
  }
 },
 "nbformat": 4,
 "nbformat_minor": 2
}
